{
 "cells": [
  {
   "cell_type": "markdown",
   "id": "55939797",
   "metadata": {},
   "source": [
    "# Movie Recommendation System\n",
    "\n",
    "In this project, we will build a movie recommendation system using Python and the Pandas library.\n",
    "We will recommend movies based on their popularity and genres using movie data."
   ]
  },
  {
   "cell_type": "code",
   "execution_count": 1,
   "id": "486a89d3",
   "metadata": {},
   "outputs": [],
   "source": [
    "# Importing the required libraries\n",
    "import pandas as pd\n",
    "import numpy as np\n",
    "from sklearn.feature_extraction.text import CountVectorizer\n",
    "from sklearn.metrics.pairwise import cosine_similarity\n"
   ]
  },
  {
   "cell_type": "code",
   "execution_count": 2,
   "id": "97382753",
   "metadata": {},
   "outputs": [
    {
     "data": {
      "text/plain": [
       "       title                                            genres\n",
       "0  Toy Story (1995)  Animation|Children's|Comedy\n",
       "1    Jumanji (1995)     Adventure|Children's|Fantasy\n",
       "2  Grumpier Old Men (1995)          Comedy|Romance\n",
       "3   Waiting to Exhale (1995)            Comedy|Drama\n",
       "4   Father of the Bride Part II (1995)          Comedy\n"
      ]
     },
     "execution_count": 2,
     "metadata": {},
     "output_type": "execute_result"
    }
   ],
   "source": [
    "# Load the dataset\n",
    "movies = pd.read_csv(\"movies.csv\")\n",
    "\n",
    "# Display the first 5 rows of the dataset\n",
    "movies.head()\n"
   ]
  },
  {
   "cell_type": "code",
   "execution_count": 3,
   "id": "8d5cb050",
   "metadata": {},
   "outputs": [
    {
     "data": {
      "text/plain": [
       "title      0\n",
       "genres     0\n",
       "dtype: int64"
      ]
     },
     "execution_count": 3,
     "metadata": {},
     "output_type": "execute_result"
    }
   ],
   "source": [
    "# Feature Selection\n",
    "# We'll only use movie titles and genres for our recommendation system.\n",
    "movies = movies[['title', 'genres']]\n",
    "\n",
    "# Check for missing values\n",
    "movies.isnull().sum()\n"
   ]
  },
  {
   "cell_type": "code",
   "execution_count": 4,
   "id": "d7166b12",
   "metadata": {},
   "outputs": [],
   "source": [
    "# Vectorizing genres column\n",
    "cv = CountVectorizer(tokenizer=lambda x: x.split('|'))\n",
    "\n",
    "# Creating the count matrix\n",
    "count_matrix = cv.fit_transform(movies['genres'])\n",
    "\n",
    "# Compute the Cosine Similarity based on the count_matrix\n",
    "cosine_sim = cosine_similarity(count_matrix)\n",
    "\n",
    "# Function to recommend movies based on title\n",
    "def recommend_movies(title, cosine_sim=cosine_sim):\n",
    "    # Get the index of the movie that matches the title\n",
    "    idx = movies[movies['title'] == title].index[0]\n",
    "    \n",
    "    # Get the pairwise similarity scores of all movies with that movie\n",
    "    sim_scores = list(enumerate(cosine_sim[idx]))\n",
    "    \n",
    "    # Sort the movies based on similarity scores\n",
    "    sim_scores = sorted(sim_scores, key=lambda x: x[1], reverse=True)\n",
    "    \n",
    "    # Get the indices of the top 10 most similar movies\n",
    "    sim_scores = sim_scores[1:11]\n",
    "    \n",
    "    # Get the movie indices\n",
    "    movie_indices = [i[0] for i in sim_scores]\n",
    "    \n",
    "    # Return the top 10 most similar movies\n",
    "    return movies['title'].iloc[movie_indices]\n"
   ]
  },
  {
   "cell_type": "code",
   "execution_count": 5,
   "id": "f4b952ba",
   "metadata": {},
   "outputs": [
    {
     "data": {
      "text/plain": [
       "1                            Jumanji (1995)\n",
       "2                  Grumpier Old Men (1995)\n",
       "3                   Father of the Bride Part II (1995)\n",
       "4                            Waiting to Exhale (1995)\n",
       "5                        Get Shorty (1995)\n",
       "6                             Nine Months (1995)\n",
       "7                       The American President (1995)\n",
       "8                            Born to Be Wild (1995)\n",
       "9  The Parent Trap (1998)\n",
       "10                             The Mask (1994)\n"
      ]
     },
     "execution_count": 5,
     "metadata": {},
     "output_type": "execute_result"
    }
   ],
   "source": [
    "# Test the recommendation system\n",
    "recommend_movies(\"Toy Story (1995)\")\n"
   ]
  },
  {
   "cell_type": "markdown",
   "id": "30591552",
   "metadata": {},
   "source": [
    "## Conclusion\n",
    "\n",
    "We successfully built a basic movie recommendation system using cosine similarity. This system can recommend movies based on their genres. Further improvements could include using collaborative filtering or matrix factorization techniques for more advanced recommendations."
   ]
  }
 ],
 "metadata": {
  "language_info": {
   "name": "python"
  }
 },
 "nbformat": 4,
 "nbformat_minor": 5
}
