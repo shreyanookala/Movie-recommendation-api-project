{
 "cells": [
  {
   "cell_type": "markdown",
   "id": "55939797",
   "metadata": {},
   "source": [
    "# Movie Recommendation System\n",
    "\n",
    "In this project, we will build a movie recommendation system using Python and the Pandas library.\n",
    "We will recommend movies based on their popularity and genres using movie data."
   ]
  },
  {
   "cell_type": "code",
   "execution_count": null,
   "id": "486a89d3",
   "metadata": {},
   "outputs": [],
   "source": [
    "\n",
    "# Importing the required libraries\n",
    "import pandas as pd\n",
    "import numpy as np\n",
    "from sklearn.feature_extraction.text import CountVectorizer\n",
    "from sklearn.metrics.pairwise import cosine_similarity\n"
   ]
  },
  {
   "cell_type": "code",
   "execution_count": null,
   "id": "97382753",
   "metadata": {},
   "outputs": [],
   "source": [
    "\n",
    "# Load the dataset\n",
    "movies = pd.read_csv(\"movies.csv\")\n",
    "\n",
    "# Display the first 5 rows of the dataset\n",
    "movies.head()\n"
   ]
  },
  {
   "cell_type": "code",
   "execution_count": null,
   "id": "8d5cb050",
   "metadata": {},
   "outputs": [],
   "source": [
    "\n",
    "# Feature Selection\n",
    "# We'll only use movie titles and genres for our recommendation system.\n",
    "movies = movies[['title', 'genres']]\n",
    "\n",
    "# Check for missing values\n",
    "movies.isnull().sum()\n"
   ]
  },
  {
   "cell_type": "code",
   "execution_count": null,
   "id": "d7166b12",
   "metadata": {},
   "outputs": [],
   "source": [
    "\n",
    "# Vectorizing genres column\n",
    "cv = CountVectorizer(tokenizer=lambda x: x.split('|'))\n",
    "\n",
    "# Creating the count matrix\n",
    "count_matrix = cv.fit_transform(movies['genres'])\n",
    "\n",
    "# Compute the Cosine Similarity based on the count_matrix\n",
    "cosine_sim = cosine_similarity(count_matrix)\n",
    "\n",
    "# Function to recommend movies based on title\n",
    "def recommend_movies(title, cosine_sim=cosine_sim):\n",
    "    # Get the index of the movie that matches the title\n",
    "    idx = movies[movies['title'] == title].index[0]\n",
    "    \n",
    "    # Get the pairwise similarity scores of all movies with that movie\n",
    "    sim_scores = list(enumerate(cosine_sim[idx]))\n",
    "    \n",
    "    # Sort the movies based on similarity scores\n",
    "    sim_scores = sorted(sim_scores, key=lambda x: x[1], reverse=True)\n",
    "    \n",
    "    # Get the indices of the top 10 most similar movies\n",
    "    sim_scores = sim_scores[1:11]\n",
    "    \n",
    "    # Get the movie indices\n",
    "    movie_indices = [i[0] for i in sim_scores]\n",
    "    \n",
    "    # Return the top 10 most similar movies\n",
    "    return movies['title'].iloc[movie_indices]\n"
   ]
  },
  {
   "cell_type": "code",
   "execution_count": null,
   "id": "f4b952ba",
   "metadata": {},
   "outputs": [],
   "source": [
    "\n",
    "# Test the recommendation system\n",
    "recommend_movies(\"Toy Story (1995)\")\n"
   ]
  },
  {
   "cell_type": "markdown",
   "id": "30591552",
   "metadata": {},
   "source": [
    "## Conclusion\n",
    "\n",
    "We successfully built a basic movie recommendation system using cosine similarity. This system can recommend movies based on their genres. Further improvements could include using collaborative filtering or matrix factorization techniques for more advanced recommendations."
   ]
  }
 ],
 "metadata": {
  "language_info": {
   "name": "python"
  }
 },
 "nbformat": 4,
 "nbformat_minor": 5
}
